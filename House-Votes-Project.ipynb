{
 "cells": [
  {
   "cell_type": "markdown",
   "metadata": {},
   "source": [
    "This project trains a model to predict house votes "
   ]
  },
  {
   "cell_type": "code",
   "execution_count": 12,
   "metadata": {},
   "outputs": [],
   "source": [
    "import pandas as pd\n",
    "import numpy as np\n",
    "from sklearn.neighbors import KNeighborsClassifier\n",
    "from sklearn.model_selection import train_test_split\n",
    "from sklearn.metrics import mean_absolute_error as mae\n",
    "from sklearn.metrics import roc_auc_score\n",
    "from sklearn.model_selection import cross_val_score\n",
    "from sklearn.linear_model import LogisticRegression"
   ]
  },
  {
   "cell_type": "code",
   "execution_count": 13,
   "metadata": {},
   "outputs": [],
   "source": [
    "df = pd.read_csv('house-votes-84 data.csv')"
   ]
  },
  {
   "cell_type": "code",
   "execution_count": 14,
   "metadata": {},
   "outputs": [],
   "source": [
    "#The function does the following:\n",
    "#This assigns the mode of the column to the variable 'mode', the mode method returns a datafram and so to get the actual mode,\n",
    "#you need to use [0], i.e the first value in the dataframe\n",
    "#This replaces the value ? with the variable 'mode'\n",
    "#This replaces 'y' with 1 and 'n' with 0\n",
    "\n",
    "def replace(column_name):\n",
    "    mode = df[column_name].mode(dropna=True)[0] \n",
    "    df[column_name] = df[column_name].replace('?', mode)\n",
    "    df[column_name] = df[column_name].replace('y', 1)\n",
    "    df[column_name] = df[column_name].replace('n', 0)"
   ]
  },
  {
   "cell_type": "code",
   "execution_count": 15,
   "metadata": {},
   "outputs": [],
   "source": [
    "#'f' is a list of all the columns\n",
    "\n",
    "f = df.columns\n",
    "for column_name in f:\n",
    "    replace(column_name)"
   ]
  },
  {
   "cell_type": "code",
   "execution_count": 16,
   "metadata": {},
   "outputs": [],
   "source": [
    "#'y' is a dataframe with just the column 'party' which is the target\n",
    "#'X' contains all the feture columns needed to predict the target column\n",
    "\n",
    "y = df['party']\n",
    "X = df.drop('party', axis = 1)"
   ]
  },
  {
   "cell_type": "code",
   "execution_count": 17,
   "metadata": {},
   "outputs": [],
   "source": [
    "#I split my data to test and training data both for the feature dataframe and test dataframe\n",
    "# I called the classifier, stating the number of kneighbours\n",
    "#I fit the classifier to the traning data\n",
    "#I assigned the predictions of the validation feature data ('X_val') to 'y_pred'\n",
    "X_train, X_val, y_train, y_val = train_test_split(X, y, test_size = 0.3, random_state = 42)\n",
    "knn = KNeighborsClassifier(n_neighbors = 7)\n",
    "\n",
    "\n",
    "knn.fit(X_train, y_train)\n",
    "\n",
    "y_pred = knn.predict(X_val)"
   ]
  },
  {
   "cell_type": "code",
   "execution_count": 18,
   "metadata": {},
   "outputs": [
    {
     "name": "stdout",
     "output_type": "stream",
     "text": [
      "AUC: 0.9627877237851663\n",
      "AUC scores computed using 5-fold cross-validation: [0.97752497 0.97031077 0.97974473 0.99523008 0.9349046 ]\n"
     ]
    }
   ],
   "source": [
    "# Compute predicted probabilities: y_pred_prob\n",
    "y_pred_prob = knn.predict_proba(X_val)[:,1]\n",
    "\n",
    "# Compute and print AUC score (Area under the ROC curve)(ROC - reiver Operating characteristics curve)\n",
    "print(\"AUC: {}\".format(roc_auc_score(y_val, y_pred_prob)))\n",
    "\n",
    "# Compute cross-validated AUC scores: cv_auc\n",
    "cv_auc = cross_val_score(knn, X, y, cv=5, scoring = 'roc_auc')\n",
    "\n",
    "# Print list of AUC scores\n",
    "print(\"AUC scores computed using 5-fold cross-validation: {}\".format(cv_auc))\n"
   ]
  },
  {
   "cell_type": "code",
   "execution_count": 19,
   "metadata": {},
   "outputs": [
    {
     "name": "stdout",
     "output_type": "stream",
     "text": [
      "AUC: 0.9829008382379169\n"
     ]
    }
   ],
   "source": [
    "z_pred_prob = knn.predict_proba(X)[:,1]\n",
    "print(\"AUC: {}\".format(roc_auc_score(y, z_pred_prob)))"
   ]
  },
  {
   "cell_type": "code",
   "execution_count": null,
   "metadata": {},
   "outputs": [],
   "source": []
  }
 ],
 "metadata": {
  "kernelspec": {
   "display_name": "Python 3",
   "language": "python",
   "name": "python3"
  },
  "language_info": {
   "codemirror_mode": {
    "name": "ipython",
    "version": 3
   },
   "file_extension": ".py",
   "mimetype": "text/x-python",
   "name": "python",
   "nbconvert_exporter": "python",
   "pygments_lexer": "ipython3",
   "version": "3.7.6"
  }
 },
 "nbformat": 4,
 "nbformat_minor": 4
}
